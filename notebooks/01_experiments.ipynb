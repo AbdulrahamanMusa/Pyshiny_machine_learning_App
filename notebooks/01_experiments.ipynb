{
 "cells": [
  {
   "cell_type": "code",
   "execution_count": 3,
   "metadata": {},
   "outputs": [
    {
     "name": "stdout",
     "output_type": "stream",
     "text": [
      "The autoreload extension is already loaded. To reload it, use:\n",
      "  %reload_ext autoreload\n"
     ]
    }
   ],
   "source": [
    "%load_ext autoreload\n",
    "%autoreload 2"
   ]
  },
  {
   "cell_type": "code",
   "execution_count": 4,
   "metadata": {},
   "outputs": [],
   "source": [
    "import numpy as np\n",
    "import itertools\n",
    "from pathlib import Path\n",
    "import matplotlib.pyplot as plt\n",
    "from sklearn import preprocessing \n",
    "from sklearn.linear_model import LogisticRegression\n",
    "from sklearn.svm import SVC\n",
    "from sklearn.tree import DecisionTreeClassifier\n",
    "from sklearn.ensemble import RandomForestClassifier, GradientBoostingClassifier\n",
    "from sklearn.model_selection import train_test_split\n",
    "from sklearn.metrics import classification_report, confusion_matrix, accuracy_score, f1_score\n",
    "import sqlite3\n",
    "import pandas as pd"
   ]
  },
  {
   "cell_type": "code",
   "execution_count": 5,
   "metadata": {},
   "outputs": [],
   "source": [
    "# Create SQLite database connection\n",
    "conn = sqlite3.connect(\"database.db\")\n",
    "cursor = conn.cursor()\n",
    "\n",
    "# Select data from the table\n",
    "query = \"SELECT * FROM patient\"\n",
    "df = pd.read_sql_query(query, conn)\n",
    "\n",
    "# Remove NaN values and update the original DataFrame (in-place)\n",
    "df.dropna(inplace=True)\n",
    "\n",
    "# Close the connection (optional - good practice)\n",
    "conn.close()\n",
    "# Now df should not contain NaN values\n"
   ]
  },
  {
   "cell_type": "code",
   "execution_count": 6,
   "metadata": {},
   "outputs": [],
   "source": [
    "df=df[[\"PatientID\", \"Gender\", \"Age\", \"AgeCat\", \"Occupation\", \"Ethnicity\", \"Education\", \"Height\", \"Weight\", \"BMI\", \n",
    "                    \"BP_sytolic\", \"BP_Distolic\", \"BP_category\", \n",
    "                    \"Pusle_rate\", \"Temperature\", \"Diet_compliance\", \"Smoking_status\", \n",
    "                    \"Alcohol_consumption\", \"Physical_activity\", \n",
    "                    \"Consultation_fee\"]]\n",
    "\n",
    "# print(df)"
   ]
  },
  {
   "cell_type": "code",
   "execution_count": 27,
   "metadata": {},
   "outputs": [],
   "source": [
    "# Assigned code number to represent body mass index \n",
    "def bmi_category(bmi):\n",
    "  if bmi <= 18.5:\n",
    "    return 0\n",
    "  elif 18.5 < bmi <= 24.9:\n",
    "    return 0\n",
    "  elif 25.0 <= bmi < 30.0: \n",
    "    return 1\n",
    "  else:\n",
    "    return 1\n",
    "# Add a new column 'BMI_code' with categories\n",
    "df = df.assign(BMI_code=df['BMI'].apply(bmi_category))"
   ]
  },
  {
   "cell_type": "code",
   "execution_count": 29,
   "metadata": {},
   "outputs": [],
   "source": [
    "# # Assigned code number to represent Blood pressure\n",
    "def bp_category(bp):\n",
    "  if bp == 'Normal':\n",
    "    return 0\n",
    "  elif bp == 'Elevated':\n",
    "   return 0    \n",
    "  elif bp == 'Stage 1 hypertension':  # Double equals for comparison\n",
    "    return 1\n",
    "  else:\n",
    "    return 2  # Assuming 'Stage 2 hypertension' maps to 2\n",
    "\n",
    "# Add a new column 'BP_code' with categories\n",
    "df = df.assign(BP_code=df['BP_category'].apply(bp_category))"
   ]
  },
  {
   "cell_type": "code",
   "execution_count": 30,
   "metadata": {},
   "outputs": [],
   "source": [
    "# Data Mapping/Preprocessing\n",
    "gender_mapping = {\"Male\": 0, \"Female\": 1}\n",
    "agecat_mapping = {\"5-14yrs\": 0, \"15-24yrs\": 1, \"25-34yrs\": 2, \"35-44yrs\": 3, \"45-54yrs\": 4, \"55yers and above\": 5}\n",
    "occupation_mapping = {\"Unemployed\": 0, \"Business\": 1, \"Farmer\": 2, \"Student\": 3, \"Civil servant\": 4, \"Tailor\": 5, \"Carpenter\": 6, \"Engineer\": 7, \"Others\": 8}\n",
    "education_mapping = {\"Non-formal\": 0, \"Primary\": 1, \"Secondary\": 1, \"Tertiary\": 3}\n",
    "bp_mapping = {'Normal': 0, 'Elevated': 0, 'Stage 1 hypertension': 1, 'Stage 2 hypertension': 1}\n",
    "diet_compliance_mapping = {\"No\": 0, \"Yes\": 1}\n",
    "smoking_status_mapping = {\"No\": 0, \"Yes\": 1}\n",
    "alcohol_consumption_mapping = {\"No\": 0, \"Yes\": 1}\n",
    "physical_activity_mapping = {\"No\": 0, \"Yes\": 1}\n",
    "df.loc[:,'BMI_code'] = df['BMI'].apply(bmi_category)"
   ]
  },
  {
   "cell_type": "code",
   "execution_count": 31,
   "metadata": {},
   "outputs": [],
   "source": [
    "# Asigning code numbers to categorical varibales \n",
    "df.loc[:,\"PatientID\"] = df[\"PatientID\"]\n",
    "df.loc[:,\"Gender_code\"] = df[\"Gender\"].map(gender_mapping)\n",
    "df.loc[:,\"AgeCat_code\"] = df[\"AgeCat\"].map(agecat_mapping)\n",
    "df.loc[:,\"Occupation_code\"] = df[\"Occupation\"].map(occupation_mapping)\n",
    "df.loc[:,\"Education_code\"] = df[\"Education\"].map(education_mapping)\n",
    "df.loc[:,'BMI_code'] = df['BMI'].apply(bmi_category)\n",
    "df.loc[:,\"BP_code\"] = df[\"BP_category\"].map(bp_mapping)  # Assuming BP_category stores class labels\n",
    "df.loc[:,\"Diet_compliance_code\"] = df[\"Diet_compliance\"].map(diet_compliance_mapping)\n",
    "df.loc[:,\"Smoking_status_code\"] = df[\"Smoking_status\"].map(smoking_status_mapping)\n",
    "df.loc[:,\"Alcohol_consumption_code\"] = df[\"Alcohol_consumption\"].map(alcohol_consumption_mapping)\n",
    "df.loc[:,\"Physical_activity_code\"] = df[\"Physical_activity\"].map(physical_activity_mapping)"
   ]
  },
  {
   "cell_type": "code",
   "execution_count": 33,
   "metadata": {},
   "outputs": [
    {
     "name": "stdout",
     "output_type": "stream",
     "text": [
      "    PatientID  Gender_code  AgeCat_code  Occupation_code  Education_code  \\\n",
      "0       P0001            0            2                4               3   \n",
      "1       P0002            1            1                3               1   \n",
      "2       P0009            0            1                3               1   \n",
      "3       P0007            1            1                3               1   \n",
      "4       P0010            1            4                4               3   \n",
      "..        ...          ...          ...              ...             ...   \n",
      "299    P00026            0            2                4               3   \n",
      "300    P00027            1            1                3               1   \n",
      "301    P00028            0            1                3               1   \n",
      "302    P00029            1            1                3               1   \n",
      "303    P00030            1            4                4               3   \n",
      "\n",
      "     Diet_compliance_code  Smoking_status_code  Alcohol_consumption_code  \\\n",
      "0                       0                    1                         0   \n",
      "1                       1                    0                         0   \n",
      "2                       0                    0                         0   \n",
      "3                       1                    0                         0   \n",
      "4                       0                    0                         0   \n",
      "..                    ...                  ...                       ...   \n",
      "299                     0                    1                         0   \n",
      "300                     1                    0                         0   \n",
      "301                     0                    0                         0   \n",
      "302                     1                    0                         0   \n",
      "303                     0                    0                         0   \n",
      "\n",
      "     Physical_activity_code  \n",
      "0                         0  \n",
      "1                         1  \n",
      "2                         1  \n",
      "3                         0  \n",
      "4                         1  \n",
      "..                      ...  \n",
      "299                       0  \n",
      "300                       1  \n",
      "301                       1  \n",
      "302                       0  \n",
      "303                       1  \n",
      "\n",
      "[304 rows x 9 columns]\n"
     ]
    }
   ],
   "source": [
    "# Displayed the coded data \n",
    "feature_df=df[[\"PatientID\",\"Gender_code\", \"AgeCat_code\", \"Occupation_code\", \n",
    "          \"Education_code\", \"Diet_compliance_code\", \"Smoking_status_code\",\n",
    "          \"Alcohol_consumption_code\", \"Physical_activity_code\"]]\n",
    "feature_df=feature_df.dropna()\n",
    "print(feature_df)"
   ]
  },
  {
   "cell_type": "code",
   "execution_count": 34,
   "metadata": {},
   "outputs": [
    {
     "data": {
      "text/plain": [
       "array([[0, 2, 4, 3, 0, 1, 0, 0],\n",
       "       [1, 1, 3, 1, 1, 0, 0, 1],\n",
       "       [0, 1, 3, 1, 0, 0, 0, 1],\n",
       "       [1, 1, 3, 1, 1, 0, 0, 0],\n",
       "       [1, 4, 4, 3, 0, 0, 0, 1]])"
      ]
     },
     "execution_count": 34,
     "metadata": {},
     "output_type": "execute_result"
    }
   ],
   "source": [
    "# Preprocess the data\n",
    "# Exclude 'Unnamed: 0' column\n",
    "X = feature_df.drop(['PatientID'], axis=1)\n",
    "X=np.asarray(X)\n",
    "X[0:5]"
   ]
  },
  {
   "cell_type": "code",
   "execution_count": 35,
   "metadata": {},
   "outputs": [
    {
     "data": {
      "text/plain": [
       "array([1, 0, 1, 0, 0])"
      ]
     },
     "execution_count": 35,
     "metadata": {},
     "output_type": "execute_result"
    }
   ],
   "source": [
    "# Class for Dibetic \n",
    "y_BMI = df['BMI_code'] = df['BMI_code'].astype('int')\n",
    "y_BMI= np.asarray(df['BMI_code'])\n",
    "y_BMI[0:5]"
   ]
  },
  {
   "cell_type": "code",
   "execution_count": 36,
   "metadata": {},
   "outputs": [
    {
     "data": {
      "text/plain": [
       "array([1, 0, 0, 0, 1])"
      ]
     },
     "execution_count": 36,
     "metadata": {},
     "output_type": "execute_result"
    }
   ],
   "source": [
    "# Class for  Hypertension\n",
    "y_BP = df['BP_code'] = df['BP_code'].astype('int')\n",
    "y_BP= np.asarray(df['BP_code'])\n",
    "y_BP[0:5]"
   ]
  },
  {
   "cell_type": "code",
   "execution_count": 39,
   "metadata": {},
   "outputs": [],
   "source": [
    "# # Train and test split for Dibetic\n",
    "# X_train, X_test, y_train, y_test = train_test_split(X, y_BMI, test_size=0.30, random_state=21)\n",
    "# print ('Train set:', X_train.shape,  y_train.shape)\n",
    "# print ('Test set:', X_test.shape,  y_test.shape)"
   ]
  },
  {
   "cell_type": "code",
   "execution_count": 40,
   "metadata": {},
   "outputs": [
    {
     "name": "stdout",
     "output_type": "stream",
     "text": [
      "Train set: (182, 8) (182,)\n",
      "Test set: (122, 8) (122,)\n"
     ]
    }
   ],
   "source": [
    "# Train and test split for hypertension\n",
    "X_train, X_test, y_train, y_test = train_test_split(X, y_BP, test_size=0.40, random_state=21)\n",
    "print ('Train set:', X_train.shape,  y_train.shape)\n",
    "print ('Test set:', X_test.shape,  y_test.shape)"
   ]
  },
  {
   "cell_type": "code",
   "execution_count": 41,
   "metadata": {},
   "outputs": [],
   "source": [
    "# Train the models\n",
    "from sklearn.svm import SVC  # Import SVC from sklearn.svm\n",
    "\n",
    "models = {\n",
    "  'Logistic Regression': LogisticRegression(),\n",
    "  'Support Vector Machine': SVC(kernel='rbf', gamma='auto'),  # Define SVM within the loop\n",
    "  'Decision Tree': DecisionTreeClassifier(),\n",
    "  'Random Forest': RandomForestClassifier(),\n",
    "  'Gradient Boosting': GradientBoostingClassifier()\n",
    "}\n"
   ]
  },
  {
   "cell_type": "code",
   "execution_count": 43,
   "metadata": {},
   "outputs": [
    {
     "name": "stdout",
     "output_type": "stream",
     "text": [
      "SVC()\n"
     ]
    }
   ],
   "source": [
    "for name, model in models.items():\n",
    "  model.fit(X_train, y_train)  # Train each model in the dictionary\n",
    "\n",
    "clf =SVC(kernel='rbf')\n",
    "print(clf.fit(X_train, y_train))"
   ]
  },
  {
   "cell_type": "code",
   "execution_count": 44,
   "metadata": {},
   "outputs": [
    {
     "data": {
      "text/plain": [
       "array([0, 0, 0, 0, 0])"
      ]
     },
     "execution_count": 44,
     "metadata": {},
     "output_type": "execute_result"
    }
   ],
   "source": [
    "yhat = clf.predict(X_test)\n",
    "yhat [0:5]"
   ]
  },
  {
   "cell_type": "code",
   "execution_count": 45,
   "metadata": {},
   "outputs": [],
   "source": [
    "from sklearn.metrics import classification_report, confusion_matrix\n",
    "import itertools"
   ]
  },
  {
   "cell_type": "code",
   "execution_count": 46,
   "metadata": {},
   "outputs": [],
   "source": [
    "def plot_confusion_matrix(cm, classes,\n",
    "                          normalize=False,\n",
    "                          title='Confusion matrix',\n",
    "                          cmap=plt.cm.Blues):\n",
    "    \"\"\"\n",
    "    This function prints and plots the confusion matrix.\n",
    "    Normalization can be applied by setting `normalize=True`.\n",
    "    \"\"\"\n",
    "    if normalize:\n",
    "        cm = cm.astype('float') / cm.sum(axis=1)[:, np.newaxis]\n",
    "        print(\"Normalized confusion matrix\")\n",
    "    else:\n",
    "        print('Confusion matrix, without normalization')\n",
    "\n",
    "    print(cm)\n",
    "\n",
    "    plt.imshow(cm, interpolation='nearest', cmap=cmap)\n",
    "    plt.title(title)\n",
    "    plt.colorbar()\n",
    "    tick_marks = np.arange(len(classes))\n",
    "    plt.xticks(tick_marks, classes, rotation=45)\n",
    "    plt.yticks(tick_marks, classes)\n",
    "\n",
    "    fmt = '.2f' if normalize else 'd'\n",
    "    thresh = cm.max() / 2.\n",
    "    for i, j in itertools.product(range(cm.shape[0]), range(cm.shape[1])):\n",
    "        plt.text(j, i, format(cm[i, j], fmt),\n",
    "                 horizontalalignment=\"center\",\n",
    "                 color=\"white\" if cm[i, j] > thresh else \"black\")\n",
    "\n",
    "    plt.tight_layout()\n",
    "    plt.ylabel('True label')\n",
    "    plt.xlabel('Predicted label')"
   ]
  },
  {
   "cell_type": "code",
   "execution_count": 47,
   "metadata": {},
   "outputs": [
    {
     "name": "stdout",
     "output_type": "stream",
     "text": [
      "              precision    recall  f1-score   support\n",
      "\n",
      "           0       1.00      1.00      1.00        90\n",
      "           1       1.00      1.00      1.00        32\n",
      "\n",
      "    accuracy                           1.00       122\n",
      "   macro avg       1.00      1.00      1.00       122\n",
      "weighted avg       1.00      1.00      1.00       122\n",
      "\n",
      "Confusion matrix, without normalization\n",
      "[[90  0]\n",
      " [ 0 32]]\n"
     ]
    },
    {
     "data": {
      "image/png": "[encoded data removed]",
      "text/plain": [
       "<Figure size 640x480 with 2 Axes>"
      ]
     },
     "metadata": {},
     "output_type": "display_data"
    }
   ],
   "source": [
    "# Compute confusion matrix\n",
    "cnf_matrix = confusion_matrix(y_test, yhat, labels=[0,1])\n",
    "np.set_printoptions(precision=2)\n",
    "\n",
    "print (classification_report(y_test, yhat))\n",
    "\n",
    "# Plot non-normalized confusion matrix\n",
    "plt.figure()\n",
    "plot_confusion_matrix(cnf_matrix, classes=['Non-Diabetic(0)','Diabetic(1)'],normalize= False,  title='Confusion matrix')"
   ]
  }
 ],
 "metadata": {
  "kernelspec": {
   "display_name": "pyshiny-template-AF2zGnGe-py3.12",
   "language": "python",
   "name": "python3"
  },
  "language_info": {
   "codemirror_mode": {
    "name": "ipython",
    "version": 3
   },
   "file_extension": ".py",
   "mimetype": "text/x-python",
   "name": "python",
   "nbconvert_exporter": "python",
   "pygments_lexer": "ipython3",
   "version": "3.10.14"
  }
 },
 "nbformat": 4,
 "nbformat_minor": 2
}
